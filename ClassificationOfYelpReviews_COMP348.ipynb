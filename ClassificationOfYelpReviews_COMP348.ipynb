{
 "cells": [
  {
   "cell_type": "markdown",
   "metadata": {},
   "source": [
    "SID: 44617585"
   ]
  },
  {
   "cell_type": "markdown",
   "metadata": {},
   "source": [
    "# Assignment 2 - Classification of Business Reviews\n",
    "\n",
    "**Submission deadline: Friday 26 April 2019, 11pm**\n",
    "\n",
    "**Penalty for late submission: 4 marks per day**\n",
    "\n",
    "**Assessment marks: 20 marks (20% of the total unit assessment)**\n",
    "\n",
    "In this assignment you will design and evaluate several deep learning models that predict user ratings of restaurents given their reviews. **Note that, depending on the hardware of your machine, the running time of the training process may vary**. In particular:\n",
    "\n",
    "* If your machine does not have a Graphics Processing Unit (GPU), every epoch may run for 30 seconds or longer. **For the exercise that uses LSTM, every epoch may run for 5 minutes or longer**.\n",
    "* If your machine has a GPU and Keras is configured to use the GPU, every epoch may run for 5 to 10 seconds. **For the exercise that uses LSTM, every epoch may still run for 2 minutes or longer**.\n",
    "\n",
    "**You are advised to start early and not to leave the exercises to the last minute since the total running time of the code may take over an hour**, and you may need to run parts of the code several times for testing and debugging."
   ]
  },
  {
   "cell_type": "markdown",
   "metadata": {},
   "source": [
    "The following code reads business reviews which are part of the [Yelp Dataset stored in Kaggle](https://www.kaggle.com/yelp-dataset/yelp-dataset). The data are stored in a CSV file. The following code reads the CSV file and prints the contents of the first 5 records:"
   ]
  },
  {
   "cell_type": "code",
   "execution_count": 1,
   "metadata": {},
   "outputs": [
    {
     "data": {
      "text/html": [
       "<div>\n",
       "<style scoped>\n",
       "    .dataframe tbody tr th:only-of-type {\n",
       "        vertical-align: middle;\n",
       "    }\n",
       "\n",
       "    .dataframe tbody tr th {\n",
       "        vertical-align: top;\n",
       "    }\n",
       "\n",
       "    .dataframe thead th {\n",
       "        text-align: right;\n",
       "    }\n",
       "</style>\n",
       "<table border=\"1\" class=\"dataframe\">\n",
       "  <thead>\n",
       "    <tr style=\"text-align: right;\">\n",
       "      <th></th>\n",
       "      <th>review_id</th>\n",
       "      <th>user_id</th>\n",
       "      <th>business_id</th>\n",
       "      <th>stars</th>\n",
       "      <th>date</th>\n",
       "      <th>text</th>\n",
       "      <th>useful</th>\n",
       "      <th>funny</th>\n",
       "      <th>cool</th>\n",
       "    </tr>\n",
       "  </thead>\n",
       "  <tbody>\n",
       "    <tr>\n",
       "      <th>0</th>\n",
       "      <td>vkVSCC7xljjrAI4UGfnKEQ</td>\n",
       "      <td>bv2nCi5Qv5vroFiqKGopiw</td>\n",
       "      <td>AEx2SYEUJmTxVVB18LlCwA</td>\n",
       "      <td>5</td>\n",
       "      <td>2016-05-28</td>\n",
       "      <td>Super simple place but amazing nonetheless. It...</td>\n",
       "      <td>0</td>\n",
       "      <td>0</td>\n",
       "      <td>0</td>\n",
       "    </tr>\n",
       "    <tr>\n",
       "      <th>1</th>\n",
       "      <td>n6QzIUObkYshz4dz2QRJTw</td>\n",
       "      <td>bv2nCi5Qv5vroFiqKGopiw</td>\n",
       "      <td>VR6GpWIda3SfvPC-lg9H3w</td>\n",
       "      <td>5</td>\n",
       "      <td>2016-05-28</td>\n",
       "      <td>Small unassuming place that changes their menu...</td>\n",
       "      <td>0</td>\n",
       "      <td>0</td>\n",
       "      <td>0</td>\n",
       "    </tr>\n",
       "    <tr>\n",
       "      <th>2</th>\n",
       "      <td>MV3CcKScW05u5LVfF6ok0g</td>\n",
       "      <td>bv2nCi5Qv5vroFiqKGopiw</td>\n",
       "      <td>CKC0-MOWMqoeWf6s-szl8g</td>\n",
       "      <td>5</td>\n",
       "      <td>2016-05-28</td>\n",
       "      <td>Lester's is located in a beautiful neighborhoo...</td>\n",
       "      <td>0</td>\n",
       "      <td>0</td>\n",
       "      <td>0</td>\n",
       "    </tr>\n",
       "    <tr>\n",
       "      <th>3</th>\n",
       "      <td>IXvOzsEMYtiJI0CARmj77Q</td>\n",
       "      <td>bv2nCi5Qv5vroFiqKGopiw</td>\n",
       "      <td>ACFtxLv8pGrrxMm6EgjreA</td>\n",
       "      <td>4</td>\n",
       "      <td>2016-05-28</td>\n",
       "      <td>Love coming here. Yes the place always needs t...</td>\n",
       "      <td>0</td>\n",
       "      <td>0</td>\n",
       "      <td>0</td>\n",
       "    </tr>\n",
       "    <tr>\n",
       "      <th>4</th>\n",
       "      <td>L_9BTb55X0GDtThi6GlZ6w</td>\n",
       "      <td>bv2nCi5Qv5vroFiqKGopiw</td>\n",
       "      <td>s2I_Ni76bjJNK9yG60iD-Q</td>\n",
       "      <td>4</td>\n",
       "      <td>2016-05-28</td>\n",
       "      <td>Had their chocolate almond croissant and it wa...</td>\n",
       "      <td>0</td>\n",
       "      <td>0</td>\n",
       "      <td>0</td>\n",
       "    </tr>\n",
       "  </tbody>\n",
       "</table>\n",
       "</div>"
      ],
      "text/plain": [
       "                review_id                 user_id             business_id  \\\n",
       "0  vkVSCC7xljjrAI4UGfnKEQ  bv2nCi5Qv5vroFiqKGopiw  AEx2SYEUJmTxVVB18LlCwA   \n",
       "1  n6QzIUObkYshz4dz2QRJTw  bv2nCi5Qv5vroFiqKGopiw  VR6GpWIda3SfvPC-lg9H3w   \n",
       "2  MV3CcKScW05u5LVfF6ok0g  bv2nCi5Qv5vroFiqKGopiw  CKC0-MOWMqoeWf6s-szl8g   \n",
       "3  IXvOzsEMYtiJI0CARmj77Q  bv2nCi5Qv5vroFiqKGopiw  ACFtxLv8pGrrxMm6EgjreA   \n",
       "4  L_9BTb55X0GDtThi6GlZ6w  bv2nCi5Qv5vroFiqKGopiw  s2I_Ni76bjJNK9yG60iD-Q   \n",
       "\n",
       "   stars        date                                               text  \\\n",
       "0      5  2016-05-28  Super simple place but amazing nonetheless. It...   \n",
       "1      5  2016-05-28  Small unassuming place that changes their menu...   \n",
       "2      5  2016-05-28  Lester's is located in a beautiful neighborhoo...   \n",
       "3      4  2016-05-28  Love coming here. Yes the place always needs t...   \n",
       "4      4  2016-05-28  Had their chocolate almond croissant and it wa...   \n",
       "\n",
       "   useful  funny  cool  \n",
       "0       0      0     0  \n",
       "1       0      0     0  \n",
       "2       0      0     0  \n",
       "3       0      0     0  \n",
       "4       0      0     0  "
      ]
     },
     "execution_count": 1,
     "metadata": {},
     "output_type": "execute_result"
    }
   ],
   "source": [
    "import pandas as pd\n",
    "pd_data = pd.read_csv('yelp_review.zip')\n",
    "pd_data[:5]"
   ]
  },
  {
   "cell_type": "markdown",
   "metadata": {},
   "source": [
    "From the data, we will only use the reviews and the star rating. The following code extracts this information and places it in a list of pairs:"
   ]
  },
  {
   "cell_type": "code",
   "execution_count": 2,
   "metadata": {},
   "outputs": [],
   "source": [
    "all_data = list(zip(pd_data['text'], pd_data['stars']))"
   ]
  },
  {
   "cell_type": "code",
   "execution_count": 3,
   "metadata": {},
   "outputs": [
    {
     "data": {
      "text/plain": [
       "5261668"
      ]
     },
     "execution_count": 3,
     "metadata": {},
     "output_type": "execute_result"
    }
   ],
   "source": [
    "len(all_data)"
   ]
  },
  {
   "cell_type": "code",
   "execution_count": 4,
   "metadata": {},
   "outputs": [
    {
     "data": {
      "text/plain": [
       "[(\"Super simple place but amazing nonetheless. It's been around since the 30's and they still serve the same thing they started with: a bologna and salami sandwich with mustard. \\n\\nStaff was very helpful and friendly.\",\n",
       "  5),\n",
       " (\"Small unassuming place that changes their menu every so often. Cool decor and vibe inside their 30 seat restaurant. Call for a reservation. \\n\\nWe had their beef tartar and pork belly to start and a salmon dish and lamb meal for mains. Everything was incredible! I could go on at length about how all the listed ingredients really make their dishes amazing but honestly you just need to go. \\n\\nA bit outside of downtown montreal but take the metro out and it's less than a 10 minute walk from the station.\",\n",
       "  5),\n",
       " (\"Lester's is located in a beautiful neighborhood and has been there since 1951. They are known for smoked meat which most deli's have but their brisket sandwich is what I come to montreal for. They've got about 12 seats outside to go along with the inside. \\n\\nThe smoked meat is up there in quality and taste with Schwartz's and you'll find less tourists at Lester's as well.\",\n",
       "  5),\n",
       " (\"Love coming here. Yes the place always needs the floor swept but when you give out  peanuts in the shell how won't it always be a bit dirty. \\n\\nThe food speaks for itself, so good. Burgers are made to order and the meat is put on the grill when you order your sandwich. Getting the small burger just means 1 patty, the regular is a 2 patty burger which is twice the deliciousness. \\n\\nGetting the Cajun fries adds a bit of spice to them and whatever size you order they always throw more fries (a lot more fries) into the bag.\",\n",
       "  4),\n",
       " (\"Had their chocolate almond croissant and it was amazing! So light and buttery and oh my how chocolaty.\\n\\nIf you're looking for a light breakfast then head out here. Perfect spot for a coffee\\\\/latté before heading out to the old port\",\n",
       "  4)]"
      ]
     },
     "execution_count": 4,
     "metadata": {},
     "output_type": "execute_result"
    }
   ],
   "source": [
    "all_data[:5]"
   ]
  },
  {
   "cell_type": "markdown",
   "metadata": {},
   "source": [
    "Let's now check the distribution of star ratings:"
   ]
  },
  {
   "cell_type": "code",
   "execution_count": 5,
   "metadata": {},
   "outputs": [],
   "source": [
    "%matplotlib inline\n",
    "from matplotlib import pyplot as plt"
   ]
  },
  {
   "cell_type": "code",
   "execution_count": 6,
   "metadata": {},
   "outputs": [
    {
     "data": {
      "text/plain": [
       "Counter({5: 2253347, 4: 1223316, 3: 615481, 1: 731363, 2: 438161})"
      ]
     },
     "execution_count": 6,
     "metadata": {},
     "output_type": "execute_result"
    }
   ],
   "source": [
    "from collections import Counter\n",
    "c = Counter([rating for text, rating in all_data])\n",
    "c"
   ]
  },
  {
   "cell_type": "code",
   "execution_count": 7,
   "metadata": {},
   "outputs": [
    {
     "data": {
      "text/plain": [
       "<BarContainer object of 5 artists>"
      ]
     },
     "execution_count": 7,
     "metadata": {},
     "output_type": "execute_result"
    },
    {
     "data": {
      "image/png": "[encoded data removed]",
      "text/plain": [
       "<Figure size 432x288 with 1 Axes>"
      ]
     },
     "metadata": {
      "needs_background": "light"
     },
     "output_type": "display_data"
    }
   ],
   "source": [
    "plt.bar(range(1,6), [c[1], c[2], c[3], c[4], c[5]])"
   ]
  },
  {
   "cell_type": "markdown",
   "metadata": {},
   "source": [
    "The data set is fairly large with more than 5 million samples. To speed up the computations for this assigmnent, we will use 500,000 samples for training, 10,000 for the dev-test set and 10,000 for the test set. To reduce any possible bias while partitioning the data set, we will first shuffle the data and then partition into training data, dev-test data, and test data using the following code:\n"
   ]
  },
  {
   "cell_type": "code",
   "execution_count": 8,
   "metadata": {},
   "outputs": [],
   "source": [
    "import random\n",
    "random.seed(1234)\n",
    "random.shuffle(all_data)\n",
    "train_data, devtest_data, test_data = all_data[:500000], all_data[500000:510000], all_data[510000:520000]"
   ]
  },
  {
   "cell_type": "markdown",
   "metadata": {},
   "source": [
    "The following code uses Keras' `Tokenizer` to convert the train, devtest, and test data into matrices of indices. We use only the 10,000 most frequent words of the training set. Note how we use the text of the training set to fit the tokenizer *before* attempting to tokenize any of the texts."
   ]
  },
  {
   "cell_type": "code",
   "execution_count": 9,
   "metadata": {},
   "outputs": [],
   "source": [
    "num_words = 10000 # Use this to inform the tokenizer what is the maximum number of words."
   ]
  },
  {
   "cell_type": "code",
   "execution_count": 10,
   "metadata": {},
   "outputs": [
    {
     "name": "stderr",
     "output_type": "stream",
     "text": [
      "Using TensorFlow backend.\n"
     ]
    },
    {
     "data": {
      "text/plain": [
       "[]"
      ]
     },
     "execution_count": 10,
     "metadata": {},
     "output_type": "execute_result"
    }
   ],
   "source": [
    "import keras\n",
    "from keras import backend as K\n",
    "K.tensorflow_backend._get_available_gpus()"
   ]
  },
  {
   "cell_type": "code",
   "execution_count": 11,
   "metadata": {},
   "outputs": [],
   "source": [
    "from keras.preprocessing.text import Tokenizer\n",
    "from keras.preprocessing.sequence import pad_sequences"
   ]
  },
  {
   "cell_type": "code",
   "execution_count": 12,
   "metadata": {},
   "outputs": [],
   "source": [
    "tokenizer = Tokenizer(num_words=num_words)\n",
    "tokenizer.fit_on_texts([d for d, l in train_data])"
   ]
  },
  {
   "cell_type": "code",
   "execution_count": 13,
   "metadata": {},
   "outputs": [],
   "source": [
    "train_sequences = tokenizer.texts_to_sequences([d for d, l in train_data])"
   ]
  },
  {
   "cell_type": "code",
   "execution_count": 14,
   "metadata": {},
   "outputs": [],
   "source": [
    "devtest_sequences = tokenizer.texts_to_sequences([d for d, l in devtest_data])"
   ]
  },
  {
   "cell_type": "code",
   "execution_count": 15,
   "metadata": {},
   "outputs": [],
   "source": [
    "test_sequences = tokenizer.texts_to_sequences([d for d, l in test_data])"
   ]
  },
  {
   "cell_type": "markdown",
   "metadata": {},
   "source": [
    "The following code plots a histogram with the lengths of all reviews."
   ]
  },
  {
   "cell_type": "code",
   "execution_count": 16,
   "metadata": {},
   "outputs": [
    {
     "data": {
      "text/plain": [
       "(array([284620., 134588.,  47083.,  18197.,   7775.,   3619.,   1772.,\n",
       "           961.,    575.,    810.]),\n",
       " array([1.0000e+00, 5.0550e+02, 1.0100e+03, 1.5145e+03, 2.0190e+03,\n",
       "        2.5235e+03, 3.0280e+03, 3.5325e+03, 4.0370e+03, 4.5415e+03,\n",
       "        5.0460e+03]),\n",
       " <a list of 10 Patch objects>)"
      ]
     },
     "execution_count": 16,
     "metadata": {},
     "output_type": "execute_result"
    },
    {
     "data": {
      "image/png": "[encoded data removed]",
      "text/plain": [
       "<Figure size 432x288 with 1 Axes>"
      ]
     },
     "metadata": {
      "needs_background": "light"
     },
     "output_type": "display_data"
    }
   ],
   "source": [
    "plt.hist([len(d) for d, l in train_data])"
   ]
  },
  {
   "cell_type": "markdown",
   "metadata": {},
   "source": [
    "We can see that there are many fairly long reviews. To facilitate the assignment we will truncate the reviews using Keras' `pad_sequences`. The following code will select the last 100 words of each review:"
   ]
  },
  {
   "cell_type": "code",
   "execution_count": 17,
   "metadata": {},
   "outputs": [],
   "source": [
    "train_vectors = pad_sequences(train_sequences, maxlen=100)"
   ]
  },
  {
   "cell_type": "code",
   "execution_count": 18,
   "metadata": {},
   "outputs": [],
   "source": [
    "devtest_vectors = pad_sequences(devtest_sequences, maxlen=100)"
   ]
  },
  {
   "cell_type": "code",
   "execution_count": 19,
   "metadata": {},
   "outputs": [],
   "source": [
    "test_vectors = pad_sequences(test_sequences, maxlen=100)"
   ]
  },
  {
   "cell_type": "markdown",
   "metadata": {},
   "source": [
    "## Task 1 (1 mark)\n",
    "Design a neural model that has the following sequence of layers:\n",
    "* An embedding layer that generates embeddings with 50 dimensions.\n",
    "* A layer that flattens the output of the previous layer.\n",
    "* A dense layer with 50 nodes and a `relu` activation."
   ]
  },
  {
   "cell_type": "code",
   "execution_count": 20,
   "metadata": {},
   "outputs": [
    {
     "name": "stdout",
     "output_type": "stream",
     "text": [
      "WARNING:tensorflow:From C:\\Users\\Luke\\Anaconda3\\envs\\python36\\lib\\site-packages\\tensorflow\\python\\framework\\op_def_library.py:263: colocate_with (from tensorflow.python.framework.ops) is deprecated and will be removed in a future version.\n",
      "Instructions for updating:\n",
      "Colocations handled automatically by placer.\n",
      "_________________________________________________________________\n",
      "Layer (type)                 Output Shape              Param #   \n",
      "=================================================================\n",
      "embedding_1 (Embedding)      (None, 100, 50)           500000    \n",
      "_________________________________________________________________\n",
      "flatten_1 (Flatten)          (None, 5000)              0         \n",
      "_________________________________________________________________\n",
      "dense_1 (Dense)              (None, 50)                250050    \n",
      "=================================================================\n",
      "Total params: 750,050\n",
      "Trainable params: 750,050\n",
      "Non-trainable params: 0\n",
      "_________________________________________________________________\n"
     ]
    }
   ],
   "source": [
    "from keras import models\n",
    "from keras import layers\n",
    "\n",
    "model = models.Sequential()\n",
    "model.add(layers.InputLayer(input_shape=(100, )))\n",
    "model.add(layers.Embedding(num_words, 50))\n",
    "model.add(layers.Flatten())\n",
    "model.add(layers.Dense(50, activation='relu'))\n",
    "model.summary()"
   ]
  },
  {
   "cell_type": "markdown",
   "metadata": {},
   "source": [
    "## Task 2 (1 mark)\n",
    "This is multi-class classification since we want to predict the review score. This means that the label needs to be converted into 5 outputs using one-hot encoding. Write Python code that converts the training, devtest, and test data to the appropriate encoding."
   ]
  },
  {
   "cell_type": "code",
   "execution_count": 21,
   "metadata": {},
   "outputs": [
    {
     "data": {
      "text/plain": [
       "array([[0., 0., 0., 0., 1.],\n",
       "       [1., 0., 0., 0., 0.],\n",
       "       [0., 0., 0., 1., 0.],\n",
       "       [0., 0., 1., 0., 0.],\n",
       "       [1., 0., 0., 0., 0.],\n",
       "       [0., 0., 0., 0., 1.],\n",
       "       [0., 0., 0., 0., 1.],\n",
       "       [0., 0., 1., 0., 0.],\n",
       "       [0., 0., 1., 0., 0.],\n",
       "       [0., 0., 0., 0., 1.]], dtype=float32)"
      ]
     },
     "execution_count": 21,
     "metadata": {},
     "output_type": "execute_result"
    }
   ],
   "source": [
    "from keras.utils import to_categorical\n",
    "\n",
    "# Write your code so that one_hot_train_labels has the one_hot encoding of the train labels\n",
    "train_labels = [l-1 for d, l in train_data]\n",
    "\n",
    "one_hot_train_labels = to_categorical(train_labels)\n",
    "one_hot_train_labels[:10]"
   ]
  },
  {
   "cell_type": "code",
   "execution_count": 22,
   "metadata": {},
   "outputs": [
    {
     "data": {
      "text/plain": [
       "array([[0., 0., 0., 0., 1.],\n",
       "       [0., 0., 1., 0., 0.],\n",
       "       [0., 1., 0., 0., 0.],\n",
       "       [0., 0., 0., 0., 1.],\n",
       "       [0., 0., 0., 1., 0.],\n",
       "       [0., 0., 0., 0., 1.],\n",
       "       [0., 0., 0., 0., 1.],\n",
       "       [0., 0., 0., 0., 1.],\n",
       "       [1., 0., 0., 0., 0.],\n",
       "       [1., 0., 0., 0., 0.]], dtype=float32)"
      ]
     },
     "execution_count": 22,
     "metadata": {},
     "output_type": "execute_result"
    }
   ],
   "source": [
    "# Write your code so that one_hot_devtest_labels has the one_hot encoding of the devtest labels\n",
    "devtest_labels = [l-1 for d, l in devtest_data]\n",
    "\n",
    "one_hot_devtest_labels = to_categorical(devtest_labels)\n",
    "one_hot_devtest_labels[:10]"
   ]
  },
  {
   "cell_type": "code",
   "execution_count": 23,
   "metadata": {},
   "outputs": [
    {
     "data": {
      "text/plain": [
       "array([[0., 0., 0., 1., 0.],\n",
       "       [0., 0., 0., 0., 1.],\n",
       "       [0., 0., 1., 0., 0.],\n",
       "       [0., 0., 0., 1., 0.],\n",
       "       [0., 0., 0., 1., 0.],\n",
       "       [0., 1., 0., 0., 0.],\n",
       "       [0., 0., 0., 0., 1.],\n",
       "       [0., 0., 1., 0., 0.],\n",
       "       [0., 0., 1., 0., 0.],\n",
       "       [1., 0., 0., 0., 0.]], dtype=float32)"
      ]
     },
     "execution_count": 23,
     "metadata": {},
     "output_type": "execute_result"
    }
   ],
   "source": [
    "# Write your code so that one_hot_test_labels has the one_hot encoding of the test labels\n",
    "test_labels = [l-1 for d, l in test_data]\n",
    "\n",
    "one_hot_test_labels = to_categorical(test_labels)\n",
    "one_hot_test_labels[:10]"
   ]
  },
  {
   "cell_type": "markdown",
   "metadata": {},
   "source": [
    "## Task 3 (1 mark)\n",
    "Complete the design of the model by providing the correct output layer for this task. Compile the model by providing the appropriate loss function and the `accuracy` evaluation metric. Use `rmsprop` as the optimizer."
   ]
  },
  {
   "cell_type": "code",
   "execution_count": 24,
   "metadata": {},
   "outputs": [
    {
     "name": "stdout",
     "output_type": "stream",
     "text": [
      "_________________________________________________________________\n",
      "Layer (type)                 Output Shape              Param #   \n",
      "=================================================================\n",
      "embedding_1 (Embedding)      (None, 100, 50)           500000    \n",
      "_________________________________________________________________\n",
      "flatten_1 (Flatten)          (None, 5000)              0         \n",
      "_________________________________________________________________\n",
      "dense_1 (Dense)              (None, 50)                250050    \n",
      "_________________________________________________________________\n",
      "dense_2 (Dense)              (None, 5)                 255       \n",
      "=================================================================\n",
      "Total params: 750,305\n",
      "Trainable params: 750,305\n",
      "Non-trainable params: 0\n",
      "_________________________________________________________________\n"
     ]
    }
   ],
   "source": [
    "model.add(layers.Dense(5, activation='softmax'))\n",
    "\n",
    "model.compile(optimizer='rmsprop',\n",
    "                loss='categorical_crossentropy',\n",
    "                metrics=['accuracy'])\n",
    "\n",
    "model.summary()"
   ]
  },
  {
   "cell_type": "markdown",
   "metadata": {},
   "source": [
    "## Task 4 (1 mark)\n",
    "Train the model using 20 epochs and batch size of 512. Use the devtest set to determine the accuracy at each epoch."
   ]
  },
  {
   "cell_type": "code",
   "execution_count": 25,
   "metadata": {},
   "outputs": [
    {
     "name": "stdout",
     "output_type": "stream",
     "text": [
      "WARNING:tensorflow:From C:\\Users\\Luke\\Anaconda3\\envs\\python36\\lib\\site-packages\\tensorflow\\python\\ops\\math_ops.py:3066: to_int32 (from tensorflow.python.ops.math_ops) is deprecated and will be removed in a future version.\n",
      "Instructions for updating:\n",
      "Use tf.cast instead.\n",
      "Train on 500000 samples, validate on 10000 samples\n",
      "Epoch 1/20\n",
      "500000/500000 [==============================] - 13s 26us/step - loss: 0.8552 - acc: 0.6364 - val_loss: 0.8032 - val_acc: 0.6517\n",
      "Epoch 2/20\n",
      "500000/500000 [==============================] - 12s 25us/step - loss: 0.7637 - acc: 0.6772 - val_loss: 0.8078 - val_acc: 0.6543\n",
      "Epoch 3/20\n",
      "500000/500000 [==============================] - 12s 25us/step - loss: 0.7061 - acc: 0.7072 - val_loss: 0.8403 - val_acc: 0.6429\n",
      "Epoch 4/20\n",
      "500000/500000 [==============================] - 13s 26us/step - loss: 0.6387 - acc: 0.7427 - val_loss: 0.8835 - val_acc: 0.6337\n",
      "Epoch 5/20\n",
      "500000/500000 [==============================] - 12s 25us/step - loss: 0.5741 - acc: 0.7734 - val_loss: 0.9598 - val_acc: 0.6209\n",
      "Epoch 6/20\n",
      "500000/500000 [==============================] - 12s 25us/step - loss: 0.5163 - acc: 0.7999 - val_loss: 1.0444 - val_acc: 0.6091\n",
      "Epoch 7/20\n",
      "500000/500000 [==============================] - 12s 25us/step - loss: 0.4647 - acc: 0.8226 - val_loss: 1.1495 - val_acc: 0.6047\n",
      "Epoch 8/20\n",
      "500000/500000 [==============================] - 13s 25us/step - loss: 0.4176 - acc: 0.8429 - val_loss: 1.2531 - val_acc: 0.5941\n",
      "Epoch 9/20\n",
      "500000/500000 [==============================] - 13s 25us/step - loss: 0.3740 - acc: 0.8615 - val_loss: 1.3717 - val_acc: 0.5968\n",
      "Epoch 10/20\n",
      "500000/500000 [==============================] - 13s 25us/step - loss: 0.3343 - acc: 0.8775 - val_loss: 1.5305 - val_acc: 0.5876\n",
      "Epoch 11/20\n",
      "500000/500000 [==============================] - 13s 25us/step - loss: 0.2976 - acc: 0.8922 - val_loss: 1.6906 - val_acc: 0.5792\n",
      "Epoch 12/20\n",
      "500000/500000 [==============================] - 12s 25us/step - loss: 0.2639 - acc: 0.9053 - val_loss: 1.8713 - val_acc: 0.5794\n",
      "Epoch 13/20\n",
      "500000/500000 [==============================] - 13s 26us/step - loss: 0.2335 - acc: 0.9171 - val_loss: 2.0263 - val_acc: 0.5805\n",
      "Epoch 14/20\n",
      "500000/500000 [==============================] - 13s 26us/step - loss: 0.2067 - acc: 0.9273 - val_loss: 2.2106 - val_acc: 0.5749\n",
      "Epoch 15/20\n",
      "500000/500000 [==============================] - 13s 26us/step - loss: 0.1829 - acc: 0.9361 - val_loss: 2.4226 - val_acc: 0.5703\n",
      "Epoch 16/20\n",
      "500000/500000 [==============================] - 13s 26us/step - loss: 0.1623 - acc: 0.9436 - val_loss: 2.5512 - val_acc: 0.5673\n",
      "Epoch 17/20\n",
      "500000/500000 [==============================] - 13s 25us/step - loss: 0.1450 - acc: 0.9501 - val_loss: 2.7692 - val_acc: 0.5676\n",
      "Epoch 18/20\n",
      "500000/500000 [==============================] - 13s 25us/step - loss: 0.1295 - acc: 0.9557 - val_loss: 2.9304 - val_acc: 0.5607\n",
      "Epoch 19/20\n",
      "500000/500000 [==============================] - 13s 25us/step - loss: 0.1163 - acc: 0.9604 - val_loss: 3.0697 - val_acc: 0.5648\n",
      "Epoch 20/20\n",
      "500000/500000 [==============================] - 13s 25us/step - loss: 0.1049 - acc: 0.9642 - val_loss: 3.2134 - val_acc: 0.5639\n"
     ]
    }
   ],
   "source": [
    "history1_e20 = model.fit(train_vectors, one_hot_train_labels,\n",
    "            epochs=20,\n",
    "            batch_size=512,\n",
    "            validation_data = (devtest_vectors, one_hot_devtest_labels))"
   ]
  },
  {
   "cell_type": "markdown",
   "metadata": {},
   "source": [
    "## Task 5 (1 mark)\n",
    "Given the results that you observed in the previous question, train the model again, now using a better choice of number of epochs."
   ]
  },
  {
   "cell_type": "code",
   "execution_count": 54,
   "metadata": {},
   "outputs": [
    {
     "name": "stdout",
     "output_type": "stream",
     "text": [
      "Train on 500000 samples, validate on 10000 samples\n",
      "Epoch 1/10\n",
      "500000/500000 [==============================] - 14s 28us/step - loss: 0.8575 - acc: 0.6358 - val_loss: 0.8045 - val_acc: 0.6522\n",
      "Epoch 2/10\n",
      "500000/500000 [==============================] - 13s 26us/step - loss: 0.7644 - acc: 0.6768 - val_loss: 0.8007 - val_acc: 0.6556\n",
      "Epoch 3/10\n",
      "500000/500000 [==============================] - 13s 25us/step - loss: 0.7090 - acc: 0.7046 - val_loss: 0.8238 - val_acc: 0.6488\n",
      "Epoch 4/10\n",
      "500000/500000 [==============================] - 13s 25us/step - loss: 0.6424 - acc: 0.7396 - val_loss: 0.8800 - val_acc: 0.6350\n",
      "Epoch 5/10\n",
      "500000/500000 [==============================] - 13s 25us/step - loss: 0.5771 - acc: 0.7702 - val_loss: 0.9421 - val_acc: 0.6272\n",
      "Epoch 6/10\n",
      "500000/500000 [==============================] - 12s 25us/step - loss: 0.5178 - acc: 0.7986 - val_loss: 1.0307 - val_acc: 0.6160\n",
      "Epoch 7/10\n",
      "500000/500000 [==============================] - 13s 25us/step - loss: 0.4651 - acc: 0.8218 - val_loss: 1.1268 - val_acc: 0.6076\n",
      "Epoch 8/10\n",
      "500000/500000 [==============================] - 13s 25us/step - loss: 0.4171 - acc: 0.8421 - val_loss: 1.2446 - val_acc: 0.6047\n",
      "Epoch 9/10\n",
      "500000/500000 [==============================] - 13s 25us/step - loss: 0.3731 - acc: 0.8610 - val_loss: 1.4024 - val_acc: 0.5881\n",
      "Epoch 10/10\n",
      "500000/500000 [==============================] - 13s 26us/step - loss: 0.3321 - acc: 0.8781 - val_loss: 1.5252 - val_acc: 0.5913\n"
     ]
    }
   ],
   "source": [
    "#As the accruacy dips early on there is no need to run as many Epochs so it has been reduced to 10.\n",
    "\n",
    "history1_e10 = model.fit(train_vectors, one_hot_train_labels,\n",
    "            epochs=10,\n",
    "            batch_size=512,\n",
    "            validation_data = (devtest_vectors, one_hot_devtest_labels))"
   ]
  },
  {
   "cell_type": "markdown",
   "metadata": {},
   "source": [
    "## Task 6 (1 mark)\n",
    "Given the results you obtained, comment whether there was overfitting. Explain your conclusions."
   ]
  },
  {
   "cell_type": "code",
   "execution_count": 26,
   "metadata": {},
   "outputs": [
    {
     "data": {
      "image/png": "[encoded data removed]",
      "text/plain": [
       "<Figure size 432x288 with 1 Axes>"
      ]
     },
     "metadata": {
      "needs_background": "light"
     },
     "output_type": "display_data"
    },
    {
     "data": {
      "image/png": "[encoded data removed]",
      "text/plain": [
       "<Figure size 432x288 with 1 Axes>"
      ]
     },
     "metadata": {
      "needs_background": "light"
     },
     "output_type": "display_data"
    }
   ],
   "source": [
    "plt.clf()   # clear figure\n",
    "\n",
    "loss = history1_e20.history['loss']\n",
    "val_loss = history1_e20.history['val_loss']\n",
    "\n",
    "epochs = range(1, len(loss) + 1)\n",
    "\n",
    "plt.plot(epochs, loss, 'bo', label='Training loss')\n",
    "plt.plot(epochs, val_loss, 'b', label='Validation loss')\n",
    "plt.title('Training and validation loss')\n",
    "plt.xlabel('Epochs')\n",
    "plt.ylabel('Loss')\n",
    "plt.legend()\n",
    "\n",
    "plt.show()\n",
    "\n",
    "plt.clf()   # clear figure\n",
    "\n",
    "acc = history1_e20.history['acc']\n",
    "val_acc = history1_e20.history['val_acc']\n",
    "\n",
    "plt.plot(epochs, acc, 'bo', label='Training accuracy')\n",
    "plt.plot(epochs, val_acc, 'b', label='Validation accuracy')\n",
    "plt.title('Training and validation accuracy')\n",
    "plt.xlabel('Epochs')\n",
    "plt.ylabel('Loss')\n",
    "plt.legend()\n",
    "\n",
    "plt.show()\n",
    "\n"
   ]
  },
  {
   "cell_type": "markdown",
   "metadata": {},
   "source": [
    "Looking at the plotted data you can see that it overfits quickly.\n",
    "After the second epoch you can see that the validation accuracy experiences a large dip and steadily decreases over the epochs as the test increases"
   ]
  },
  {
   "cell_type": "markdown",
   "metadata": {},
   "source": [
    "## Task 7 (3 marks)\n",
    "Now, use the average of embeddings instead of the `Flat` layer. You can do this by replacing the `Flat` layer with `GlobalAveragePooling1D`. Answer the following questions.\n",
    "1. How many epochs do you need to train the network? Explain how you decided the number of epochs.\n",
    "2. Is there overfitting? Explain why.\n",
    "3. Are the results better or worse?"
   ]
  },
  {
   "cell_type": "code",
   "execution_count": 25,
   "metadata": {},
   "outputs": [],
   "source": [
    "model2 = models.Sequential()\n",
    "model2.add(layers.InputLayer(input_shape=(100, )))\n",
    "model2.add(layers.Embedding(num_words, 50))\n",
    "model2.add(layers.GlobalAveragePooling1D())\n",
    "model2.add(layers.Dense(50, activation='relu'))\n",
    "model2.add(layers.Dense(5, activation='softmax'))\n",
    "\n",
    "model2.compile(optimizer='rmsprop',\n",
    "                loss='categorical_crossentropy',\n",
    "                metrics=['accuracy'])"
   ]
  },
  {
   "cell_type": "code",
   "execution_count": 26,
   "metadata": {},
   "outputs": [
    {
     "name": "stdout",
     "output_type": "stream",
     "text": [
      "WARNING:tensorflow:From C:\\Users\\Luke\\Anaconda3\\envs\\python36\\lib\\site-packages\\tensorflow\\python\\ops\\math_ops.py:3066: to_int32 (from tensorflow.python.ops.math_ops) is deprecated and will be removed in a future version.\n",
      "Instructions for updating:\n",
      "Use tf.cast instead.\n",
      "Train on 500000 samples, validate on 10000 samples\n",
      "Epoch 1/20\n",
      "500000/500000 [==============================] - 11s 22us/step - loss: 0.9520 - acc: 0.5996 - val_loss: 0.8256 - val_acc: 0.6419\n",
      "Epoch 2/20\n",
      "500000/500000 [==============================] - 10s 21us/step - loss: 0.8035 - acc: 0.6579 - val_loss: 0.8091 - val_acc: 0.6497\n",
      "Epoch 3/20\n",
      "500000/500000 [==============================] - 10s 21us/step - loss: 0.7894 - acc: 0.6638 - val_loss: 0.8046 - val_acc: 0.6569\n",
      "Epoch 4/20\n",
      "500000/500000 [==============================] - 10s 21us/step - loss: 0.7820 - acc: 0.6675 - val_loss: 0.8017 - val_acc: 0.6592\n",
      "Epoch 5/20\n",
      "500000/500000 [==============================] - 10s 21us/step - loss: 0.7758 - acc: 0.6710 - val_loss: 0.8020 - val_acc: 0.6573\n",
      "Epoch 6/20\n",
      "500000/500000 [==============================] - 10s 21us/step - loss: 0.7705 - acc: 0.6737 - val_loss: 0.8047 - val_acc: 0.6584\n",
      "Epoch 7/20\n",
      "500000/500000 [==============================] - 10s 21us/step - loss: 0.7660 - acc: 0.6762 - val_loss: 0.8002 - val_acc: 0.6578\n",
      "Epoch 8/20\n",
      "500000/500000 [==============================] - 11s 21us/step - loss: 0.7618 - acc: 0.6786 - val_loss: 0.7999 - val_acc: 0.6557\n",
      "Epoch 9/20\n",
      "500000/500000 [==============================] - 10s 21us/step - loss: 0.7582 - acc: 0.6803 - val_loss: 0.8019 - val_acc: 0.6556\n",
      "Epoch 10/20\n",
      "500000/500000 [==============================] - 10s 21us/step - loss: 0.7551 - acc: 0.6817 - val_loss: 0.8034 - val_acc: 0.6561\n",
      "Epoch 11/20\n",
      "500000/500000 [==============================] - 10s 21us/step - loss: 0.7522 - acc: 0.6833 - val_loss: 0.8019 - val_acc: 0.6565\n",
      "Epoch 12/20\n",
      "500000/500000 [==============================] - 10s 21us/step - loss: 0.7495 - acc: 0.6846 - val_loss: 0.8039 - val_acc: 0.6537\n",
      "Epoch 13/20\n",
      "500000/500000 [==============================] - 10s 21us/step - loss: 0.7470 - acc: 0.6856 - val_loss: 0.8061 - val_acc: 0.6526\n",
      "Epoch 14/20\n",
      "500000/500000 [==============================] - 10s 21us/step - loss: 0.7446 - acc: 0.6869 - val_loss: 0.8048 - val_acc: 0.6557\n",
      "Epoch 15/20\n",
      "500000/500000 [==============================] - 10s 21us/step - loss: 0.7424 - acc: 0.6878 - val_loss: 0.8073 - val_acc: 0.6516\n",
      "Epoch 16/20\n",
      "500000/500000 [==============================] - 10s 21us/step - loss: 0.7401 - acc: 0.6891 - val_loss: 0.8091 - val_acc: 0.6520\n",
      "Epoch 17/20\n",
      "500000/500000 [==============================] - 10s 21us/step - loss: 0.7378 - acc: 0.6903 - val_loss: 0.8089 - val_acc: 0.6541\n",
      "Epoch 18/20\n",
      "500000/500000 [==============================] - 10s 21us/step - loss: 0.7356 - acc: 0.6912 - val_loss: 0.8097 - val_acc: 0.6529\n",
      "Epoch 19/20\n",
      "500000/500000 [==============================] - 10s 21us/step - loss: 0.7335 - acc: 0.6916 - val_loss: 0.8106 - val_acc: 0.6528\n",
      "Epoch 20/20\n",
      "500000/500000 [==============================] - 10s 21us/step - loss: 0.7313 - acc: 0.6937 - val_loss: 0.8101 - val_acc: 0.6509\n"
     ]
    }
   ],
   "source": [
    "history2 = model2.fit(train_vectors, one_hot_train_labels,\n",
    "            epochs=20,\n",
    "            batch_size=512,\n",
    "            validation_data = (devtest_vectors, one_hot_devtest_labels))"
   ]
  },
  {
   "cell_type": "code",
   "execution_count": 52,
   "metadata": {},
   "outputs": [
    {
     "data": {
      "image/png": "[encoded data removed]",
      "text/plain": [
       "<Figure size 432x288 with 1 Axes>"
      ]
     },
     "metadata": {
      "needs_background": "light"
     },
     "output_type": "display_data"
    },
    {
     "data": {
      "image/png": "[encoded data removed]",
      "text/plain": [
       "<Figure size 432x288 with 1 Axes>"
      ]
     },
     "metadata": {
      "needs_background": "light"
     },
     "output_type": "display_data"
    }
   ],
   "source": [
    "plt.clf()   # clear figure\n",
    "\n",
    "loss2 = history2.history['loss']\n",
    "val_loss2 = history2.history['val_loss']\n",
    "\n",
    "epochs2 = range(1, len(loss2) + 1)\n",
    "\n",
    "plt.plot(epochs2, loss2, 'bo', label='Training loss')\n",
    "plt.plot(epochs2, val_loss2, 'b', label='Validation loss')\n",
    "plt.title('Training and validation loss')\n",
    "plt.xlabel('Epochs')\n",
    "plt.ylabel('Loss')\n",
    "plt.legend()\n",
    "\n",
    "plt.show()\n",
    "\n",
    "plt.clf()   # clear figure\n",
    "\n",
    "acc2 = history2.history['acc']\n",
    "val_acc2 = history2.history['val_acc']\n",
    "\n",
    "plt.plot(epochs2, acc2, 'bo', label='Training accuracy')\n",
    "plt.plot(epochs2, val_acc2, 'b', label='Validation accuracy')\n",
    "plt.title('Training and validation accuracy')\n",
    "plt.xlabel('Epochs')\n",
    "plt.ylabel('Loss')\n",
    "plt.legend()\n",
    "\n",
    "plt.show()"
   ]
  },
  {
   "cell_type": "markdown",
   "metadata": {},
   "source": [
    "1. How many epochs do you need to train the network? Explain how you decided the number of epochs.\n",
    "\n",
    "    I experimented with numerous amounts of epochs starting from 50 however, 20 proved to be an optimal amount as\n",
    "    it gave enough time to show progression through the accuracy and loss. It also made it clear to see the shape of \n",
    "    the different elements.\n",
    "\n",
    "\n",
    "2. Is there overfitting? Explain why.\n",
    "\n",
    "    Looking at the Training and Validation accuracy plot you can see that there is a slight amount of overfitting which can be \n",
    "    seen around epoch 14. Overfitting can be caused by too many epochs or by having a large variance in the dataset.\n",
    "    \n",
    "    \n",
    "    \n",
    "3. Are the results better or worse?\n",
    "\n",
    "    Through viewing the plotted data I would say it is much clearer and provides a more optimum curve. We are also experiencing\n",
    "    much less loss throughout training the data compared to when we used the Flat layer."
   ]
  },
  {
   "cell_type": "markdown",
   "metadata": {},
   "source": [
    "## Task 8 (3 marks)\n",
    "Instead of averaging the word embeddings, now introduce a recurrent layer with LSTM cells. Conduct an analysis of the results similar to the one in the previous task. Feel free to add additional comments to your analysis."
   ]
  },
  {
   "cell_type": "code",
   "execution_count": 39,
   "metadata": {},
   "outputs": [
    {
     "name": "stdout",
     "output_type": "stream",
     "text": [
      "_________________________________________________________________\n",
      "Layer (type)                 Output Shape              Param #   \n",
      "=================================================================\n",
      "embedding_7 (Embedding)      (None, 100, 50)           500000    \n",
      "_________________________________________________________________\n",
      "lstm_5 (LSTM)                (None, 50)                20200     \n",
      "_________________________________________________________________\n",
      "dense_13 (Dense)             (None, 50)                2550      \n",
      "_________________________________________________________________\n",
      "dense_14 (Dense)             (None, 5)                 255       \n",
      "=================================================================\n",
      "Total params: 523,005\n",
      "Trainable params: 523,005\n",
      "Non-trainable params: 0\n",
      "_________________________________________________________________\n"
     ]
    }
   ],
   "source": [
    "model3 = models.Sequential()\n",
    "model3.add(layers.InputLayer(input_shape=(100, )))\n",
    "model3.add(layers.Embedding(num_words, 50))\n",
    "model3.add(layers.LSTM(50))\n",
    "model3.add(layers.Dense(50, activation='relu'))\n",
    "model3.add(layers.Dense(5, activation='softmax'))\n",
    "\n",
    "model3.compile(optimizer='rmsprop',\n",
    "                loss='categorical_crossentropy',\n",
    "                metrics=['accuracy'])\n",
    "\n",
    "model3.summary()"
   ]
  },
  {
   "cell_type": "code",
   "execution_count": 41,
   "metadata": {},
   "outputs": [
    {
     "name": "stdout",
     "output_type": "stream",
     "text": [
      "Train on 500000 samples, validate on 10000 samples\n",
      "Epoch 1/20\n",
      "500000/500000 [==============================] - 133s 266us/step - loss: 0.7512 - acc: 0.6805 - val_loss: 0.7882 - val_acc: 0.6624\n",
      "Epoch 2/20\n",
      "500000/500000 [==============================] - 133s 266us/step - loss: 0.7298 - acc: 0.6888 - val_loss: 0.7723 - val_acc: 0.6658\n",
      "Epoch 3/20\n",
      "500000/500000 [==============================] - 133s 265us/step - loss: 0.7133 - acc: 0.6965 - val_loss: 0.7675 - val_acc: 0.6667\n",
      "Epoch 4/20\n",
      "500000/500000 [==============================] - 133s 266us/step - loss: 0.6987 - acc: 0.7034 - val_loss: 0.7604 - val_acc: 0.6727\n",
      "Epoch 5/20\n",
      "500000/500000 [==============================] - 134s 268us/step - loss: 0.6854 - acc: 0.7092 - val_loss: 0.7627 - val_acc: 0.6726\n",
      "Epoch 6/20\n",
      "500000/500000 [==============================] - 134s 268us/step - loss: 0.6736 - acc: 0.7150 - val_loss: 0.7584 - val_acc: 0.6743\n",
      "Epoch 7/20\n",
      "500000/500000 [==============================] - 133s 267us/step - loss: 0.6623 - acc: 0.7205 - val_loss: 0.7561 - val_acc: 0.6755\n",
      "Epoch 8/20\n",
      "500000/500000 [==============================] - 136s 272us/step - loss: 0.6513 - acc: 0.7262 - val_loss: 0.7469 - val_acc: 0.6822\n",
      "Epoch 9/20\n",
      "500000/500000 [==============================] - 138s 275us/step - loss: 0.6405 - acc: 0.7316 - val_loss: 0.7679 - val_acc: 0.6752\n",
      "Epoch 10/20\n",
      "500000/500000 [==============================] - 137s 274us/step - loss: 0.6300 - acc: 0.7365 - val_loss: 0.7964 - val_acc: 0.6751\n",
      "Epoch 11/20\n",
      "500000/500000 [==============================] - 139s 279us/step - loss: 0.6196 - acc: 0.7414 - val_loss: 0.7911 - val_acc: 0.6728\n",
      "Epoch 12/20\n",
      "500000/500000 [==============================] - 138s 276us/step - loss: 0.6093 - acc: 0.7468 - val_loss: 0.8136 - val_acc: 0.6717\n",
      "Epoch 13/20\n",
      "500000/500000 [==============================] - 139s 277us/step - loss: 0.5989 - acc: 0.7518 - val_loss: 0.8153 - val_acc: 0.6643\n",
      "Epoch 14/20\n",
      "500000/500000 [==============================] - 138s 276us/step - loss: 0.5882 - acc: 0.7570 - val_loss: 0.7987 - val_acc: 0.6706\n",
      "Epoch 15/20\n",
      "500000/500000 [==============================] - 139s 278us/step - loss: 0.5787 - acc: 0.7614 - val_loss: 0.8045 - val_acc: 0.6698\n",
      "Epoch 16/20\n",
      "500000/500000 [==============================] - 146s 291us/step - loss: 0.5684 - acc: 0.7665 - val_loss: 0.8428 - val_acc: 0.6660\n",
      "Epoch 17/20\n",
      "500000/500000 [==============================] - 140s 280us/step - loss: 0.5585 - acc: 0.7712 - val_loss: 0.8276 - val_acc: 0.6664\n",
      "Epoch 18/20\n",
      "500000/500000 [==============================] - 140s 280us/step - loss: 0.5489 - acc: 0.7766 - val_loss: 0.8822 - val_acc: 0.6569\n",
      "Epoch 19/20\n",
      "500000/500000 [==============================] - 142s 283us/step - loss: 0.5390 - acc: 0.7813 - val_loss: 0.8528 - val_acc: 0.6580\n",
      "Epoch 20/20\n",
      "500000/500000 [==============================] - 139s 278us/step - loss: 0.5290 - acc: 0.7867 - val_loss: 0.8791 - val_acc: 0.6579\n"
     ]
    }
   ],
   "source": [
    "history3 = model3.fit(train_vectors, one_hot_train_labels,\n",
    "            epochs=20,\n",
    "            batch_size=512,\n",
    "            validation_data = (devtest_vectors, one_hot_devtest_labels))"
   ]
  },
  {
   "cell_type": "code",
   "execution_count": 51,
   "metadata": {
    "scrolled": false
   },
   "outputs": [
    {
     "data": {
      "image/png": "[encoded data removed]",
      "text/plain": [
       "<Figure size 432x288 with 1 Axes>"
      ]
     },
     "metadata": {
      "needs_background": "light"
     },
     "output_type": "display_data"
    },
    {
     "data": {
      "image/png": "[encoded data removed]",
      "text/plain": [
       "<Figure size 432x288 with 1 Axes>"
      ]
     },
     "metadata": {
      "needs_background": "light"
     },
     "output_type": "display_data"
    }
   ],
   "source": [
    "plt.clf()   # clear figure\n",
    "\n",
    "loss3 = history3.history['loss']\n",
    "val_loss3 = history3.history['val_loss']\n",
    "\n",
    "epochs3 = range(1, len(loss3) + 1)\n",
    "\n",
    "plt.plot(epochs3, loss3, 'bo', label='Training loss')\n",
    "plt.plot(epochs3, val_loss3, 'b', label='Validation loss')\n",
    "plt.title('Training and validation loss')\n",
    "plt.xlabel('Epochs')\n",
    "plt.ylabel('Loss')\n",
    "plt.legend()\n",
    "\n",
    "plt.show()\n",
    "\n",
    "plt.clf()   # clear figure\n",
    "\n",
    "acc3 = history3.history['acc']\n",
    "val_acc3 = history3.history['val_acc']\n",
    "\n",
    "plt.plot(epochs3, acc3, 'bo', label='Training accuracy')\n",
    "plt.plot(epochs3, val_acc3, 'b', label='Validation accuracy')\n",
    "plt.title('Training and validation accuracy')\n",
    "plt.xlabel('Epochs')\n",
    "plt.ylabel('Loss')\n",
    "plt.legend()\n",
    "\n",
    "plt.show()"
   ]
  },
  {
   "cell_type": "markdown",
   "metadata": {},
   "source": [
    "An LSTM layer of 50 cells was added and run over 50 epochs. as you can see by the results the validation accuracy got to a low of 0.6569 and a high of 0.6822 with the training accuracy consistently increasing.\n",
    "\n",
    "using an LSTM layer helped fine tune the results compared to the other techniques used previously. the negative of course is the time consumption as a result of the extra work"
   ]
  },
  {
   "cell_type": "markdown",
   "metadata": {},
   "source": [
    "## Task 9 (8 marks)\n",
    "This final task is open-ended. Try to improve the system, and write below the code of your experiments and your results. Explain what you do to try to improve the results, what worked and what did not work.\n",
    "\n",
    "Some strategies that may work:\n",
    "* Change the number of hidden cells, change the number of hidden layers.\n",
    "* Change the number of words per sentence. Currently it's 100 (but note that this will make the system slower).\n",
    "* Use different features. For example you could try with tf.idf.\n",
    "* Use pre-trained word embeddings.\n",
    "\n",
    "For this exercise, it is important that you document what you are doing and explain your reasoning. We will value a good explanation, good error analysis and good motivation. You may obtain top marks even if your system did not do well, provided that your report in this section is sound. But you may obtain low marks in this exercise if the system does well but the report is of poor quality.\n",
    "\n",
    "The rubric for assessing this exercise is as follows:\n",
    "* Correct code (3 marks).\n",
    "* Sound methodology and evaluation (3 marks).\n",
    "* Sound explanations (2 marks)."
   ]
  },
  {
   "cell_type": "markdown",
   "metadata": {},
   "source": [
    "Test 1:\n",
    "* Number of words per sentence increased to 150\n",
    "* Additional layer with activation 'relu' implemented with an input of 25, which was half of the above 'relu' layer\n",
    "\n",
    "Test 1: Reasoning\n",
    "\n",
    "By increasing the number of words per sentence I am hoping that this will allow the system to hopefully give a more detailed analysis of the data set.\n",
    "And by adding another Dense layer of relu activation I am hoping that this creates a more accurate result. I chose relu as the activation as it relatively cheap to compute and it also converges data faster which will hopefully allow me to conduct more tests"
   ]
  },
  {
   "cell_type": "code",
   "execution_count": 46,
   "metadata": {},
   "outputs": [],
   "source": [
    "train_vectors150 = pad_sequences(train_sequences, maxlen=150)\n",
    "devtest_vectors150 = pad_sequences(devtest_sequences, maxlen=150)\n",
    "test_vectors150 = pad_sequences(test_sequences, maxlen=150)"
   ]
  },
  {
   "cell_type": "code",
   "execution_count": 47,
   "metadata": {},
   "outputs": [
    {
     "name": "stdout",
     "output_type": "stream",
     "text": [
      "_________________________________________________________________\n",
      "Layer (type)                 Output Shape              Param #   \n",
      "=================================================================\n",
      "embedding_9 (Embedding)      (None, 150, 50)           500000    \n",
      "_________________________________________________________________\n",
      "lstm_7 (LSTM)                (None, 50)                20200     \n",
      "_________________________________________________________________\n",
      "dense_18 (Dense)             (None, 50)                2550      \n",
      "_________________________________________________________________\n",
      "dense_19 (Dense)             (None, 25)                1275      \n",
      "_________________________________________________________________\n",
      "dense_20 (Dense)             (None, 5)                 130       \n",
      "=================================================================\n",
      "Total params: 524,155\n",
      "Trainable params: 524,155\n",
      "Non-trainable params: 0\n",
      "_________________________________________________________________\n"
     ]
    }
   ],
   "source": [
    "model4 = models.Sequential()\n",
    "model4.add(layers.InputLayer(input_shape=(150, )))\n",
    "model4.add(layers.Embedding(num_words, 50))\n",
    "model4.add(layers.LSTM(50))\n",
    "model4.add(layers.Dense(50, activation='relu'))\n",
    "model4.add(layers.Dense(25, activation='relu'))\n",
    "model4.add(layers.Dense(5, activation='softmax'))\n",
    "\n",
    "model4.compile(optimizer='rmsprop',\n",
    "                loss='categorical_crossentropy',\n",
    "                metrics=['accuracy'])\n",
    "\n",
    "model4.summary()"
   ]
  },
  {
   "cell_type": "code",
   "execution_count": 48,
   "metadata": {},
   "outputs": [
    {
     "name": "stdout",
     "output_type": "stream",
     "text": [
      "Train on 500000 samples, validate on 10000 samples\n",
      "Epoch 1/20\n",
      "500000/500000 [==============================] - 201s 401us/step - loss: 0.9218 - acc: 0.6055 - val_loss: 0.7980 - val_acc: 0.6602\n",
      "Epoch 2/20\n",
      "500000/500000 [==============================] - 198s 395us/step - loss: 0.7901 - acc: 0.6625 - val_loss: 0.7812 - val_acc: 0.6650\n",
      "Epoch 3/20\n",
      "500000/500000 [==============================] - 197s 395us/step - loss: 0.7571 - acc: 0.6769 - val_loss: 0.7804 - val_acc: 0.6662\n",
      "Epoch 4/20\n",
      "500000/500000 [==============================] - 197s 394us/step - loss: 0.7305 - acc: 0.6883 - val_loss: 0.7528 - val_acc: 0.6750\n",
      "Epoch 5/20\n",
      "500000/500000 [==============================] - 199s 397us/step - loss: 0.7101 - acc: 0.6966 - val_loss: 0.7325 - val_acc: 0.6849\n",
      "Epoch 6/20\n",
      "500000/500000 [==============================] - 199s 397us/step - loss: 0.6943 - acc: 0.7037 - val_loss: 0.7527 - val_acc: 0.6740\n",
      "Epoch 7/20\n",
      "500000/500000 [==============================] - 200s 400us/step - loss: 0.6804 - acc: 0.7106 - val_loss: 0.7343 - val_acc: 0.6830\n",
      "Epoch 8/20\n",
      "500000/500000 [==============================] - 201s 403us/step - loss: 0.6681 - acc: 0.7164 - val_loss: 0.7482 - val_acc: 0.6828\n",
      "Epoch 9/20\n",
      "500000/500000 [==============================] - 202s 404us/step - loss: 0.6562 - acc: 0.7229 - val_loss: 0.7299 - val_acc: 0.6873\n",
      "Epoch 10/20\n",
      "500000/500000 [==============================] - 202s 403us/step - loss: 0.6449 - acc: 0.7280 - val_loss: 0.7391 - val_acc: 0.6835\n",
      "Epoch 11/20\n",
      "500000/500000 [==============================] - 204s 408us/step - loss: 0.6342 - acc: 0.7332 - val_loss: 0.7352 - val_acc: 0.6875\n",
      "Epoch 12/20\n",
      "500000/500000 [==============================] - 205s 411us/step - loss: 0.6235 - acc: 0.7387 - val_loss: 0.7451 - val_acc: 0.6864\n",
      "Epoch 13/20\n",
      "500000/500000 [==============================] - 206s 412us/step - loss: 0.6130 - acc: 0.7430 - val_loss: 0.7493 - val_acc: 0.6825\n",
      "Epoch 14/20\n",
      "500000/500000 [==============================] - 205s 410us/step - loss: 0.6027 - acc: 0.7492 - val_loss: 0.7486 - val_acc: 0.6855\n",
      "Epoch 15/20\n",
      "500000/500000 [==============================] - 204s 409us/step - loss: 0.5925 - acc: 0.7541 - val_loss: 0.7969 - val_acc: 0.6809\n",
      "Epoch 16/20\n",
      "500000/500000 [==============================] - 205s 409us/step - loss: 0.5818 - acc: 0.7597 - val_loss: 0.7719 - val_acc: 0.6804\n",
      "Epoch 17/20\n",
      "500000/500000 [==============================] - 205s 409us/step - loss: 0.5717 - acc: 0.7648 - val_loss: 0.7708 - val_acc: 0.6860\n",
      "Epoch 18/20\n",
      "500000/500000 [==============================] - 205s 410us/step - loss: 0.5610 - acc: 0.7700 - val_loss: 0.7961 - val_acc: 0.6763\n",
      "Epoch 19/20\n",
      "500000/500000 [==============================] - 205s 410us/step - loss: 0.5510 - acc: 0.7757 - val_loss: 0.7858 - val_acc: 0.6813\n",
      "Epoch 20/20\n",
      "500000/500000 [==============================] - 204s 408us/step - loss: 0.5412 - acc: 0.7798 - val_loss: 0.8113 - val_acc: 0.6771\n"
     ]
    }
   ],
   "source": [
    "history4 = model4.fit(train_vectors150, one_hot_train_labels,\n",
    "            epochs=20,\n",
    "            batch_size=512,\n",
    "            validation_data = (devtest_vectors150, one_hot_devtest_labels))"
   ]
  },
  {
   "cell_type": "code",
   "execution_count": 50,
   "metadata": {},
   "outputs": [
    {
     "data": {
      "image/png": "[encoded data removed]",
      "text/plain": [
       "<Figure size 432x288 with 1 Axes>"
      ]
     },
     "metadata": {
      "needs_background": "light"
     },
     "output_type": "display_data"
    },
    {
     "data": {
      "image/png": "[encoded data removed]",
      "text/plain": [
       "<Figure size 432x288 with 1 Axes>"
      ]
     },
     "metadata": {
      "needs_background": "light"
     },
     "output_type": "display_data"
    }
   ],
   "source": [
    "plt.clf()   # clear figure\n",
    "\n",
    "loss4 = history4.history['loss']\n",
    "val_loss4 = history4.history['val_loss']\n",
    "\n",
    "epochs4 = range(1, len(loss4) + 1)\n",
    "\n",
    "plt.plot(epochs4, loss4, 'bo', label='Training loss')\n",
    "plt.plot(epochs4, val_loss4, 'b', label='Validation loss')\n",
    "plt.title('Training and validation loss')\n",
    "plt.xlabel('Epochs')\n",
    "plt.ylabel('Loss')\n",
    "plt.legend()\n",
    "\n",
    "plt.show()\n",
    "\n",
    "plt.clf()   # clear figure\n",
    "\n",
    "acc4 = history4.history['acc']\n",
    "val_acc4 = history4.history['val_acc']\n",
    "\n",
    "plt.plot(epochs4, acc4, 'bo', label='Training accuracy')\n",
    "plt.plot(epochs4, val_acc4, 'b', label='Validation accuracy')\n",
    "plt.title('Training and validation accuracy')\n",
    "plt.xlabel('Epochs')\n",
    "plt.ylabel('Loss')\n",
    "plt.legend()\n",
    "\n",
    "plt.show()"
   ]
  },
  {
   "cell_type": "markdown",
   "metadata": {},
   "source": [
    "Test 1: Results\n",
    "There is some slight overfitting with the results however the accruacy seems to be quite steady. The highest accuracy obtained was 0.6875 which still leaves room for improvement. I am hoping to conduct a more indepth version of this later on in the report."
   ]
  },
  {
   "cell_type": "markdown",
   "metadata": {},
   "source": [
    "Test 2:\n",
    "* Complete restructure including Droput layers in an attempt to decrease overfitting\n",
    "* LSTM removed\n",
    "* Dense layer added\n",
    "* increase epochs\n",
    "\n",
    "Test 2: Reasoning\n",
    "\n",
    "This test is more of an attempt at something new. It is going back to the earlier questions on the assigment by not using LSTM but the main rationale for this attempt is to see the effect of Dropout Layers. Dropout Layers are useful for optimizing and trying to reduce overfitting in a trained model by dropping random units to decrease variance and by giving the model less points to connection.\n",
    "Using Dropout layers also increases the speed of training the model as it eliminates a large amount of the data throughout hence why the epochs have been increased to 50 to show a larger spread."
   ]
  },
  {
   "cell_type": "code",
   "execution_count": 99,
   "metadata": {},
   "outputs": [
    {
     "name": "stdout",
     "output_type": "stream",
     "text": [
      "_________________________________________________________________\n",
      "Layer (type)                 Output Shape              Param #   \n",
      "=================================================================\n",
      "dropout_44 (Dropout)         (None, 100)               0         \n",
      "_________________________________________________________________\n",
      "dense_48 (Dense)             (None, 50)                5050      \n",
      "_________________________________________________________________\n",
      "dropout_45 (Dropout)         (None, 50)                0         \n",
      "_________________________________________________________________\n",
      "dense_49 (Dense)             (None, 25)                1275      \n",
      "_________________________________________________________________\n",
      "dropout_46 (Dropout)         (None, 25)                0         \n",
      "_________________________________________________________________\n",
      "dense_50 (Dense)             (None, 5)                 130       \n",
      "=================================================================\n",
      "Total params: 6,455\n",
      "Trainable params: 6,455\n",
      "Non-trainable params: 0\n",
      "_________________________________________________________________\n"
     ]
    }
   ],
   "source": [
    "model5 = models.Sequential()\n",
    "model5.add(layers.Dropout(0.2, input_shape=(100,)))\n",
    "model5.add(layers.Dense(50, activation='relu'))\n",
    "model5.add(layers.Dropout(0.5))\n",
    "model5.add(layers.Dense(25, activation='relu'))\n",
    "model5.add(layers.Dropout(0.5))\n",
    "model5.add(layers.Dense(5, activation='softmax'))\n",
    "\n",
    "model5.compile(optimizer='rmsprop',\n",
    "                loss='categorical_crossentropy',\n",
    "                metrics=['accuracy'])\n",
    "\n",
    "model5.summary()"
   ]
  },
  {
   "cell_type": "code",
   "execution_count": 103,
   "metadata": {},
   "outputs": [
    {
     "name": "stdout",
     "output_type": "stream",
     "text": [
      "Train on 500000 samples, validate on 10000 samples\n",
      "Epoch 1/50\n",
      "500000/500000 [==============================] - 4s 8us/step - loss: 9.2098 - acc: 0.4284 - val_loss: 9.2261 - val_acc: 0.4275\n",
      "Epoch 2/50\n",
      "500000/500000 [==============================] - 4s 7us/step - loss: 9.2095 - acc: 0.4284 - val_loss: 9.2261 - val_acc: 0.4275\n",
      "Epoch 3/50\n",
      "500000/500000 [==============================] - 3s 7us/step - loss: 9.2101 - acc: 0.4284 - val_loss: 9.2261 - val_acc: 0.4275\n",
      "Epoch 4/50\n",
      "500000/500000 [==============================] - 3s 7us/step - loss: 9.2100 - acc: 0.4284 - val_loss: 9.2261 - val_acc: 0.4275\n",
      "Epoch 5/50\n",
      "500000/500000 [==============================] - 4s 7us/step - loss: 9.2102 - acc: 0.4284 - val_loss: 9.2261 - val_acc: 0.4275\n",
      "Epoch 6/50\n",
      "500000/500000 [==============================] - 3s 7us/step - loss: 9.2104 - acc: 0.4284 - val_loss: 9.2261 - val_acc: 0.4275\n",
      "Epoch 7/50\n",
      "500000/500000 [==============================] - 3s 7us/step - loss: 9.2098 - acc: 0.4284 - val_loss: 9.2261 - val_acc: 0.4275\n",
      "Epoch 8/50\n",
      "500000/500000 [==============================] - 3s 7us/step - loss: 9.2092 - acc: 0.4284 - val_loss: 9.2261 - val_acc: 0.4275\n",
      "Epoch 9/50\n",
      "500000/500000 [==============================] - 3s 7us/step - loss: 9.2085 - acc: 0.4284 - val_loss: 9.2261 - val_acc: 0.4275\n",
      "Epoch 10/50\n",
      "500000/500000 [==============================] - 4s 7us/step - loss: 9.2102 - acc: 0.4284 - val_loss: 9.2261 - val_acc: 0.4275\n",
      "Epoch 11/50\n",
      "500000/500000 [==============================] - 3s 7us/step - loss: 9.2098 - acc: 0.4284 - val_loss: 9.2261 - val_acc: 0.4275\n",
      "Epoch 12/50\n",
      "500000/500000 [==============================] - 3s 7us/step - loss: 9.2098 - acc: 0.4284 - val_loss: 9.2261 - val_acc: 0.4275\n",
      "Epoch 13/50\n",
      "500000/500000 [==============================] - 3s 7us/step - loss: 9.2089 - acc: 0.4284 - val_loss: 9.2261 - val_acc: 0.4275\n",
      "Epoch 14/50\n",
      "500000/500000 [==============================] - 4s 7us/step - loss: 9.2090 - acc: 0.4284 - val_loss: 9.2261 - val_acc: 0.4275\n",
      "Epoch 15/50\n",
      "500000/500000 [==============================] - 4s 7us/step - loss: 9.2086 - acc: 0.4284 - val_loss: 9.2261 - val_acc: 0.4275\n",
      "Epoch 16/50\n",
      "500000/500000 [==============================] - 3s 7us/step - loss: 9.2084 - acc: 0.4284 - val_loss: 9.2261 - val_acc: 0.4275\n",
      "Epoch 17/50\n",
      "500000/500000 [==============================] - 3s 7us/step - loss: 9.2091 - acc: 0.4284 - val_loss: 9.2261 - val_acc: 0.4275\n",
      "Epoch 18/50\n",
      "500000/500000 [==============================] - 3s 7us/step - loss: 9.2085 - acc: 0.4284 - val_loss: 9.2261 - val_acc: 0.4275\n",
      "Epoch 19/50\n",
      "500000/500000 [==============================] - 4s 7us/step - loss: 9.2080 - acc: 0.4284 - val_loss: 9.2261 - val_acc: 0.4275\n",
      "Epoch 20/50\n",
      "500000/500000 [==============================] - 4s 7us/step - loss: 9.2084 - acc: 0.4284 - val_loss: 9.2261 - val_acc: 0.4275\n",
      "Epoch 21/50\n",
      "500000/500000 [==============================] - 4s 7us/step - loss: 9.2078 - acc: 0.4284 - val_loss: 9.2261 - val_acc: 0.4275\n",
      "Epoch 22/50\n",
      "500000/500000 [==============================] - 3s 7us/step - loss: 9.2083 - acc: 0.4283 - val_loss: 9.2261 - val_acc: 0.4275\n",
      "Epoch 23/50\n",
      "500000/500000 [==============================] - 3s 7us/step - loss: 9.2078 - acc: 0.4284 - val_loss: 9.2261 - val_acc: 0.4275\n",
      "Epoch 24/50\n",
      "500000/500000 [==============================] - 4s 7us/step - loss: 9.2079 - acc: 0.4284 - val_loss: 9.2261 - val_acc: 0.4275\n",
      "Epoch 25/50\n",
      "500000/500000 [==============================] - 3s 7us/step - loss: 9.2081 - acc: 0.4284 - val_loss: 9.2261 - val_acc: 0.4275\n",
      "Epoch 26/50\n",
      "500000/500000 [==============================] - 3s 7us/step - loss: 9.2080 - acc: 0.4284 - val_loss: 9.2261 - val_acc: 0.4275\n",
      "Epoch 27/50\n",
      "500000/500000 [==============================] - 3s 7us/step - loss: 9.2079 - acc: 0.4284 - val_loss: 9.2261 - val_acc: 0.4275\n",
      "Epoch 28/50\n",
      "500000/500000 [==============================] - 4s 7us/step - loss: 9.2070 - acc: 0.4284 - val_loss: 9.2261 - val_acc: 0.4275\n",
      "Epoch 29/50\n",
      "500000/500000 [==============================] - 3s 7us/step - loss: 9.2071 - acc: 0.4284 - val_loss: 9.2261 - val_acc: 0.4275\n",
      "Epoch 30/50\n",
      "500000/500000 [==============================] - 4s 7us/step - loss: 9.2067 - acc: 0.4284 - val_loss: 9.2261 - val_acc: 0.4275\n",
      "Epoch 31/50\n",
      "500000/500000 [==============================] - 4s 8us/step - loss: 9.2068 - acc: 0.4284 - val_loss: 9.2261 - val_acc: 0.4275\n",
      "Epoch 32/50\n",
      "500000/500000 [==============================] - 4s 7us/step - loss: 9.2065 - acc: 0.4284 - val_loss: 9.2261 - val_acc: 0.4275\n",
      "Epoch 33/50\n",
      "500000/500000 [==============================] - 4s 7us/step - loss: 9.2055 - acc: 0.4284 - val_loss: 9.2261 - val_acc: 0.4275\n",
      "Epoch 34/50\n",
      "500000/500000 [==============================] - 4s 7us/step - loss: 9.2056 - acc: 0.4284 - val_loss: 9.2261 - val_acc: 0.4275\n",
      "Epoch 35/50\n",
      "500000/500000 [==============================] - 4s 7us/step - loss: 9.2053 - acc: 0.4284 - val_loss: 9.2261 - val_acc: 0.4275\n",
      "Epoch 36/50\n",
      "500000/500000 [==============================] - 4s 7us/step - loss: 9.2049 - acc: 0.4284 - val_loss: 9.2261 - val_acc: 0.4275\n",
      "Epoch 37/50\n",
      "500000/500000 [==============================] - 4s 7us/step - loss: 9.2055 - acc: 0.4284 - val_loss: 9.2261 - val_acc: 0.4275\n",
      "Epoch 38/50\n",
      "500000/500000 [==============================] - 4s 7us/step - loss: 9.2055 - acc: 0.4284 - val_loss: 9.2261 - val_acc: 0.4275\n",
      "Epoch 39/50\n",
      "500000/500000 [==============================] - 4s 7us/step - loss: 9.2046 - acc: 0.4284 - val_loss: 9.2261 - val_acc: 0.4275\n",
      "Epoch 40/50\n",
      "500000/500000 [==============================] - 4s 7us/step - loss: 9.2064 - acc: 0.4283 - val_loss: 9.2261 - val_acc: 0.4275\n",
      "Epoch 41/50\n",
      "500000/500000 [==============================] - 4s 8us/step - loss: 9.2057 - acc: 0.4283 - val_loss: 9.2261 - val_acc: 0.4275\n",
      "Epoch 42/50\n",
      "500000/500000 [==============================] - 3s 7us/step - loss: 9.2050 - acc: 0.4284 - val_loss: 9.2261 - val_acc: 0.4275\n",
      "Epoch 43/50\n",
      "500000/500000 [==============================] - 3s 7us/step - loss: 9.2064 - acc: 0.4284 - val_loss: 9.2261 - val_acc: 0.4275\n",
      "Epoch 44/50\n",
      "500000/500000 [==============================] - 3s 7us/step - loss: 9.2064 - acc: 0.4284 - val_loss: 9.2261 - val_acc: 0.4275\n",
      "Epoch 45/50\n",
      "500000/500000 [==============================] - 3s 7us/step - loss: 9.2069 - acc: 0.4284 - val_loss: 9.2261 - val_acc: 0.4275\n",
      "Epoch 46/50\n",
      "500000/500000 [==============================] - 3s 7us/step - loss: 9.2075 - acc: 0.4284 - val_loss: 9.2261 - val_acc: 0.4275\n",
      "Epoch 47/50\n",
      "500000/500000 [==============================] - 4s 7us/step - loss: 9.2068 - acc: 0.4284 - val_loss: 9.2261 - val_acc: 0.4275\n",
      "Epoch 48/50\n",
      "500000/500000 [==============================] - 4s 7us/step - loss: 9.2063 - acc: 0.4284 - val_loss: 9.2261 - val_acc: 0.4275\n",
      "Epoch 49/50\n",
      "500000/500000 [==============================] - 4s 8us/step - loss: 9.2069 - acc: 0.4284 - val_loss: 9.2261 - val_acc: 0.4275\n",
      "Epoch 50/50\n",
      "500000/500000 [==============================] - 3s 7us/step - loss: 9.2069 - acc: 0.4284 - val_loss: 9.2261 - val_acc: 0.4275\n"
     ]
    }
   ],
   "source": [
    "history5 = model5.fit(train_vectors, one_hot_train_labels,\n",
    "            epochs=50,\n",
    "            batch_size=512,\n",
    "            validation_data = (devtest_vectors, one_hot_devtest_labels))"
   ]
  },
  {
   "cell_type": "code",
   "execution_count": 104,
   "metadata": {},
   "outputs": [
    {
     "data": {
      "image/png": "[encoded data removed]",
      "text/plain": [
       "<Figure size 432x288 with 1 Axes>"
      ]
     },
     "metadata": {
      "needs_background": "light"
     },
     "output_type": "display_data"
    },
    {
     "data": {
      "image/png": "[encoded data removed]",
      "text/plain": [
       "<Figure size 432x288 with 1 Axes>"
      ]
     },
     "metadata": {
      "needs_background": "light"
     },
     "output_type": "display_data"
    }
   ],
   "source": [
    "plt.clf()   # clear figure\n",
    "\n",
    "loss5 = history5.history['loss']\n",
    "val_loss5 = history5.history['val_loss']\n",
    "\n",
    "epochs5 = range(1, len(loss5) + 1)\n",
    "\n",
    "plt.plot(epochs5, loss5, 'bo', label='Training loss')\n",
    "plt.plot(epochs5, val_loss5, 'b', label='Validation loss')\n",
    "plt.title('Training and validation loss')\n",
    "plt.xlabel('Epochs')\n",
    "plt.ylabel('Loss')\n",
    "plt.legend()\n",
    "\n",
    "plt.show()\n",
    "\n",
    "plt.clf()   # clear figure\n",
    "\n",
    "acc5 = history5.history['acc']\n",
    "val_acc5 = history5.history['val_acc']\n",
    "\n",
    "plt.plot(epochs5, acc5, 'bo', label='Training accuracy')\n",
    "plt.plot(epochs5, val_acc5, 'b', label='Validation accuracy')\n",
    "plt.title('Training and validation accuracy')\n",
    "plt.xlabel('Epochs')\n",
    "plt.ylabel('Loss')\n",
    "plt.legend()\n",
    "\n",
    "plt.show()"
   ]
  },
  {
   "cell_type": "markdown",
   "metadata": {},
   "source": [
    "Test 2: Result\n",
    "As expected the data wasnt optimal in terms of accuracy but it is interesting to see how the data turned out. The validation data was stagnate the entire time and the accraucy peaked at 0.4275 which is far from ideal.\n",
    "This test wasnt entirely helpful but it was interesting to see a different method in model training"
   ]
  },
  {
   "cell_type": "markdown",
   "metadata": {},
   "source": [
    "Test 3: \n",
    "* Number of words increased to 200\n",
    "* input shape increased to 200\n",
    "* Embedding layer increased to 100\n",
    "* LSTM cell increased to 100\n",
    "* multiple Dense layers with activation 'relu' added\n",
    "* epochs dropped to 5 due to time requirements\n",
    "\n",
    "Test 3: Reasoning\n",
    "\n",
    "This test is to try have a glimpse at a truely indepth method of training. By increased the number of words and cells that this will be searching allows it to have a much more detailed look at the data. I'm hoping to see a slightly different result to what i've experienced previously.\n",
    "Unfortunately time is not in my favour so I've had to drop down the epochs so that I have a chance to preview other testing methods. \n"
   ]
  },
  {
   "cell_type": "code",
   "execution_count": 105,
   "metadata": {},
   "outputs": [],
   "source": [
    "train_vectors200 = pad_sequences(train_sequences, maxlen=200)\n",
    "devtest_vectors200 = pad_sequences(devtest_sequences, maxlen=200)\n",
    "test_vectors200 = pad_sequences(test_sequences, maxlen=200)"
   ]
  },
  {
   "cell_type": "code",
   "execution_count": 108,
   "metadata": {},
   "outputs": [
    {
     "name": "stdout",
     "output_type": "stream",
     "text": [
      "_________________________________________________________________\n",
      "Layer (type)                 Output Shape              Param #   \n",
      "=================================================================\n",
      "embedding_24 (Embedding)     (None, 200, 100)          1000000   \n",
      "_________________________________________________________________\n",
      "lstm_21 (LSTM)               (None, 100)               80400     \n",
      "_________________________________________________________________\n",
      "dense_55 (Dense)             (None, 50)                5050      \n",
      "_________________________________________________________________\n",
      "dense_56 (Dense)             (None, 25)                1275      \n",
      "_________________________________________________________________\n",
      "dense_57 (Dense)             (None, 10)                260       \n",
      "_________________________________________________________________\n",
      "dense_58 (Dense)             (None, 5)                 55        \n",
      "=================================================================\n",
      "Total params: 1,087,040\n",
      "Trainable params: 1,087,040\n",
      "Non-trainable params: 0\n",
      "_________________________________________________________________\n"
     ]
    }
   ],
   "source": [
    "model6 = models.Sequential()\n",
    "model6.add(layers.InputLayer(input_shape=(200, )))\n",
    "model6.add(layers.Embedding(num_words, 100))\n",
    "model6.add(layers.LSTM(100))\n",
    "model6.add(layers.Dense(50, activation='relu'))\n",
    "model6.add(layers.Dense(25, activation='relu'))\n",
    "model6.add(layers.Dense(10, activation='relu'))\n",
    "model6.add(layers.Dense(5, activation='softmax'))\n",
    "\n",
    "model6.compile(optimizer='rmsprop',\n",
    "                loss='categorical_crossentropy',\n",
    "                metrics=['accuracy'])\n",
    "\n",
    "model6.summary()"
   ]
  },
  {
   "cell_type": "code",
   "execution_count": 110,
   "metadata": {},
   "outputs": [
    {
     "name": "stdout",
     "output_type": "stream",
     "text": [
      "Train on 500000 samples, validate on 10000 samples\n",
      "Epoch 1/5\n",
      "500000/500000 [==============================] - 530s 1ms/step - loss: 0.9068 - acc: 0.6130 - val_loss: 0.7948 - val_acc: 0.6643\n",
      "Epoch 2/5\n",
      "500000/500000 [==============================] - 543s 1ms/step - loss: 0.7660 - acc: 0.6725 - val_loss: 0.7524 - val_acc: 0.6722\n",
      "Epoch 3/5\n",
      "500000/500000 [==============================] - 545s 1ms/step - loss: 0.7201 - acc: 0.6921 - val_loss: 0.7491 - val_acc: 0.6819\n",
      "Epoch 4/5\n",
      "500000/500000 [==============================] - 535s 1ms/step - loss: 0.6931 - acc: 0.7044 - val_loss: 0.7184 - val_acc: 0.6933\n",
      "Epoch 5/5\n",
      "500000/500000 [==============================] - 526s 1ms/step - loss: 0.6711 - acc: 0.7145 - val_loss: 0.7055 - val_acc: 0.7004\n"
     ]
    }
   ],
   "source": [
    "history6 = model6.fit(train_vectors200, one_hot_train_labels,\n",
    "            epochs=5,\n",
    "            batch_size=512,\n",
    "            validation_data = (devtest_vectors200, one_hot_devtest_labels))"
   ]
  },
  {
   "cell_type": "code",
   "execution_count": 111,
   "metadata": {},
   "outputs": [
    {
     "data": {
      "image/png": "[encoded data removed]",
      "text/plain": [
       "<Figure size 432x288 with 1 Axes>"
      ]
     },
     "metadata": {
      "needs_background": "light"
     },
     "output_type": "display_data"
    },
    {
     "data": {
      "image/png": "[encoded data removed]",
      "text/plain": [
       "<Figure size 432x288 with 1 Axes>"
      ]
     },
     "metadata": {
      "needs_background": "light"
     },
     "output_type": "display_data"
    }
   ],
   "source": [
    "plt.clf()   # clear figure\n",
    "\n",
    "loss6 = history6.history['loss']\n",
    "val_loss6 = history6.history['val_loss']\n",
    "\n",
    "epochs6 = range(1, len(loss6) + 1)\n",
    "\n",
    "plt.plot(epochs6, loss6, 'bo', label='Training loss')\n",
    "plt.plot(epochs6, val_loss6, 'b', label='Validation loss')\n",
    "plt.title('Training and validation loss')\n",
    "plt.xlabel('Epochs')\n",
    "plt.ylabel('Loss')\n",
    "plt.legend()\n",
    "\n",
    "plt.show()\n",
    "\n",
    "plt.clf()   # clear figure\n",
    "\n",
    "acc6 = history6.history['acc']\n",
    "val_acc6 = history6.history['val_acc']\n",
    "\n",
    "plt.plot(epochs6, acc6, 'bo', label='Training accuracy')\n",
    "plt.plot(epochs6, val_acc6, 'b', label='Validation accuracy')\n",
    "plt.title('Training and validation accuracy')\n",
    "plt.xlabel('Epochs')\n",
    "plt.ylabel('Loss')\n",
    "plt.legend()\n",
    "\n",
    "plt.show()"
   ]
  },
  {
   "cell_type": "markdown",
   "metadata": {},
   "source": [
    "Test 3: Result\n",
    "    \n",
    "Looking at the results it is clear to say that it yields a higher accuracy than previous tests. With running only 5 epochs I was able to achieve 0.7004 and with more epochs It may be able to provide an even higher accuracy. As my last test I will re run this with a greater amount of epochs\n",
    "    "
   ]
  },
  {
   "cell_type": "markdown",
   "metadata": {},
   "source": [
    "Test 4:\n",
    "* Multiple LSTM layers with cells 100, 50, 25 respectively\n",
    "* reduce epoch count\n",
    "\n",
    "Test 4: Reasoning\n",
    "\n",
    "This test using a stacked LSTM method in an attempt of making the model capable of training a higher level representation.\n",
    "By using a stacked LSTM technique I am hoping to increase the training depth which in turn allows myself to experience a 'deep learning technique' and also to observe what recurrent neural networks are capable of. \n",
    "At this point im not entirely sure how the results will pan out but I'm hoping to see some difference in comparison to other techniques.\n",
    "\n",
    "Unfortunately once again I reduced the epoch count so that I would be able to view this test without being infringed completely \n",
    "    "
   ]
  },
  {
   "cell_type": "code",
   "execution_count": 112,
   "metadata": {},
   "outputs": [
    {
     "name": "stdout",
     "output_type": "stream",
     "text": [
      "_________________________________________________________________\n",
      "Layer (type)                 Output Shape              Param #   \n",
      "=================================================================\n",
      "embedding_25 (Embedding)     (None, 100, 50)           500000    \n",
      "_________________________________________________________________\n",
      "lstm_22 (LSTM)               (None, 100, 100)          60400     \n",
      "_________________________________________________________________\n",
      "lstm_23 (LSTM)               (None, 100, 50)           30200     \n",
      "_________________________________________________________________\n",
      "lstm_24 (LSTM)               (None, 25)                7600      \n",
      "_________________________________________________________________\n",
      "dense_59 (Dense)             (None, 50)                1300      \n",
      "_________________________________________________________________\n",
      "dense_60 (Dense)             (None, 5)                 255       \n",
      "=================================================================\n",
      "Total params: 599,755\n",
      "Trainable params: 599,755\n",
      "Non-trainable params: 0\n",
      "_________________________________________________________________\n"
     ]
    }
   ],
   "source": [
    "model7 = models.Sequential()\n",
    "model7.add(layers.InputLayer(input_shape=(100, )))\n",
    "model7.add(layers.Embedding(num_words, 50))\n",
    "model7.add(layers.LSTM(100, return_sequences=True))\n",
    "model7.add(layers.LSTM(50, return_sequences=True))\n",
    "model7.add(layers.LSTM(25))\n",
    "model7.add(layers.Dense(50, activation='relu'))\n",
    "model7.add(layers.Dense(5, activation='softmax'))\n",
    "\n",
    "model7.compile(optimizer='rmsprop',\n",
    "                loss='categorical_crossentropy',\n",
    "                metrics=['accuracy'])\n",
    "\n",
    "model7.summary()"
   ]
  },
  {
   "cell_type": "code",
   "execution_count": 114,
   "metadata": {},
   "outputs": [
    {
     "name": "stdout",
     "output_type": "stream",
     "text": [
      "Train on 500000 samples, validate on 10000 samples\n",
      "Epoch 1/5\n",
      "500000/500000 [==============================] - 469s 938us/step - loss: 0.9205 - acc: 0.6060 - val_loss: 0.8514 - val_acc: 0.6328\n",
      "Epoch 2/5\n",
      "500000/500000 [==============================] - 451s 901us/step - loss: 0.7993 - acc: 0.6586 - val_loss: 0.7929 - val_acc: 0.6582\n",
      "Epoch 3/5\n",
      "500000/500000 [==============================] - 447s 894us/step - loss: 0.7588 - acc: 0.6758 - val_loss: 0.7600 - val_acc: 0.6692\n",
      "Epoch 4/5\n",
      "500000/500000 [==============================] - 450s 899us/step - loss: 0.7340 - acc: 0.6874 - val_loss: 0.7492 - val_acc: 0.6784\n",
      "Epoch 5/5\n",
      "500000/500000 [==============================] - 460s 919us/step - loss: 0.7155 - acc: 0.6959 - val_loss: 0.7455 - val_acc: 0.6825\n"
     ]
    }
   ],
   "source": [
    "history7 = model7.fit(train_vectors, one_hot_train_labels,\n",
    "            epochs=5,\n",
    "            batch_size=512,\n",
    "            validation_data = (devtest_vectors, one_hot_devtest_labels))"
   ]
  },
  {
   "cell_type": "code",
   "execution_count": 115,
   "metadata": {},
   "outputs": [
    {
     "data": {
      "image/png": "[encoded data removed]",
      "text/plain": [
       "<Figure size 432x288 with 1 Axes>"
      ]
     },
     "metadata": {
      "needs_background": "light"
     },
     "output_type": "display_data"
    },
    {
     "data": {
      "image/png": "[encoded data removed]",
      "text/plain": [
       "<Figure size 432x288 with 1 Axes>"
      ]
     },
     "metadata": {
      "needs_background": "light"
     },
     "output_type": "display_data"
    }
   ],
   "source": [
    "plt.clf()   # clear figure\n",
    "\n",
    "loss7 = history7.history['loss']\n",
    "val_loss7 = history7.history['val_loss']\n",
    "\n",
    "epochs7 = range(1, len(loss7) + 1)\n",
    "\n",
    "plt.plot(epochs7, loss7, 'bo', label='Training loss')\n",
    "plt.plot(epochs7, val_loss7, 'b', label='Validation loss')\n",
    "plt.title('Training and validation loss')\n",
    "plt.xlabel('Epochs')\n",
    "plt.ylabel('Loss')\n",
    "plt.legend()\n",
    "\n",
    "plt.show()\n",
    "\n",
    "plt.clf()   # clear figure\n",
    "\n",
    "acc7 = history7.history['acc']\n",
    "val_acc7 = history7.history['val_acc']\n",
    "\n",
    "plt.plot(epochs7, acc7, 'bo', label='Training accuracy')\n",
    "plt.plot(epochs7, val_acc7, 'b', label='Validation accuracy')\n",
    "plt.title('Training and validation accuracy')\n",
    "plt.xlabel('Epochs')\n",
    "plt.ylabel('Loss')\n",
    "plt.legend()\n",
    "\n",
    "plt.show()"
   ]
  },
  {
   "cell_type": "markdown",
   "metadata": {},
   "source": [
    "Test 4: Result\n",
    "\n",
    "This test yielded an interesting result which I wish could be tested more. By upping the Epoch number to perhaps 20 would let us be able to see how the deep neural network operates at a more critical level. This iteration which had an epoch count of 5 gave us a top accuracy result of 0.6825 which is a competitive result to the other tests.\n",
    "\n",
    "The plots shows us that it faced logarithmic growth by having a high increase initially which start to slow down over the iterations."
   ]
  },
  {
   "cell_type": "markdown",
   "metadata": {},
   "source": [
    "Test 5:\n",
    "* Same as test 3 but Epoch count doubled\n",
    "* (Number of words increased to 200, input shape increased to 200, Embedding layer increased to 100, LSTM cell increased to 100, multiple Dense layers with activation 'relu' added, epochs dropped to 5 due to time requirements)\n",
    "\n",
    "Test 5: Reasoning\n",
    "\n",
    "As test 3 gave us the highest accuracy over the others I'm hoping to see how it pans out with the double epoch count. In an ideal environment I would perhaps like to have the epoch number set to 20 to see the full result."
   ]
  },
  {
   "cell_type": "code",
   "execution_count": 116,
   "metadata": {},
   "outputs": [
    {
     "name": "stdout",
     "output_type": "stream",
     "text": [
      "_________________________________________________________________\n",
      "Layer (type)                 Output Shape              Param #   \n",
      "=================================================================\n",
      "embedding_26 (Embedding)     (None, 200, 100)          1000000   \n",
      "_________________________________________________________________\n",
      "lstm_25 (LSTM)               (None, 100)               80400     \n",
      "_________________________________________________________________\n",
      "dense_61 (Dense)             (None, 50)                5050      \n",
      "_________________________________________________________________\n",
      "dense_62 (Dense)             (None, 25)                1275      \n",
      "_________________________________________________________________\n",
      "dense_63 (Dense)             (None, 10)                260       \n",
      "_________________________________________________________________\n",
      "dense_64 (Dense)             (None, 5)                 55        \n",
      "=================================================================\n",
      "Total params: 1,087,040\n",
      "Trainable params: 1,087,040\n",
      "Non-trainable params: 0\n",
      "_________________________________________________________________\n"
     ]
    }
   ],
   "source": [
    "model8 = models.Sequential()\n",
    "model8.add(layers.InputLayer(input_shape=(200, )))\n",
    "model8.add(layers.Embedding(num_words, 100))\n",
    "model8.add(layers.LSTM(100))\n",
    "model8.add(layers.Dense(50, activation='relu'))\n",
    "model8.add(layers.Dense(25, activation='relu'))\n",
    "model8.add(layers.Dense(10, activation='relu'))\n",
    "model8.add(layers.Dense(5, activation='softmax'))\n",
    "\n",
    "model8.compile(optimizer='rmsprop',\n",
    "                loss='categorical_crossentropy',\n",
    "                metrics=['accuracy'])\n",
    "\n",
    "model8.summary()"
   ]
  },
  {
   "cell_type": "code",
   "execution_count": 118,
   "metadata": {},
   "outputs": [
    {
     "name": "stdout",
     "output_type": "stream",
     "text": [
      "Train on 500000 samples, validate on 10000 samples\n",
      "Epoch 1/10\n",
      "500000/500000 [==============================] - 540s 1ms/step - loss: 0.8797 - acc: 0.6245 - val_loss: 0.8149 - val_acc: 0.6486\n",
      "Epoch 2/10\n",
      "500000/500000 [==============================] - 551s 1ms/step - loss: 0.7685 - acc: 0.6726 - val_loss: 0.7535 - val_acc: 0.6753\n",
      "Epoch 3/10\n",
      "500000/500000 [==============================] - 532s 1ms/step - loss: 0.7248 - acc: 0.6907 - val_loss: 0.7368 - val_acc: 0.6851\n",
      "Epoch 4/10\n",
      "500000/500000 [==============================] - 532s 1ms/step - loss: 0.6979 - acc: 0.7027 - val_loss: 0.7212 - val_acc: 0.6897\n",
      "Epoch 5/10\n",
      "500000/500000 [==============================] - 533s 1ms/step - loss: 0.6766 - acc: 0.7120 - val_loss: 0.7175 - val_acc: 0.6932\n",
      "Epoch 6/10\n",
      "500000/500000 [==============================] - 538s 1ms/step - loss: 0.6581 - acc: 0.7210 - val_loss: 0.7075 - val_acc: 0.7004\n",
      "Epoch 7/10\n",
      "500000/500000 [==============================] - 543s 1ms/step - loss: 0.6407 - acc: 0.7290 - val_loss: 0.7160 - val_acc: 0.6997\n",
      "Epoch 8/10\n",
      "500000/500000 [==============================] - 540s 1ms/step - loss: 0.6248 - acc: 0.7362 - val_loss: 0.7313 - val_acc: 0.6922\n",
      "Epoch 9/10\n",
      "500000/500000 [==============================] - 545s 1ms/step - loss: 0.6079 - acc: 0.7445 - val_loss: 0.7084 - val_acc: 0.7043\n",
      "Epoch 10/10\n",
      "500000/500000 [==============================] - 543s 1ms/step - loss: 0.5922 - acc: 0.7523 - val_loss: 0.7278 - val_acc: 0.6967\n"
     ]
    }
   ],
   "source": [
    "history8 = model8.fit(train_vectors200, one_hot_train_labels,\n",
    "            epochs=10,\n",
    "            batch_size=512,\n",
    "            validation_data = (devtest_vectors200, one_hot_devtest_labels))"
   ]
  },
  {
   "cell_type": "code",
   "execution_count": 119,
   "metadata": {},
   "outputs": [
    {
     "data": {
      "image/png": "[encoded data removed]",
      "text/plain": [
       "<Figure size 432x288 with 1 Axes>"
      ]
     },
     "metadata": {
      "needs_background": "light"
     },
     "output_type": "display_data"
    },
    {
     "data": {
      "image/png": "[encoded data removed]",
      "text/plain": [
       "<Figure size 432x288 with 1 Axes>"
      ]
     },
     "metadata": {
      "needs_background": "light"
     },
     "output_type": "display_data"
    }
   ],
   "source": [
    "plt.clf()   # clear figure\n",
    "\n",
    "loss8 = history8.history['loss']\n",
    "val_loss8 = history8.history['val_loss']\n",
    "\n",
    "epochs8 = range(1, len(loss8) + 1)\n",
    "\n",
    "plt.plot(epochs8, loss8, 'bo', label='Training loss')\n",
    "plt.plot(epochs8, val_loss8, 'b', label='Validation loss')\n",
    "plt.title('Training and validation loss')\n",
    "plt.xlabel('Epochs')\n",
    "plt.ylabel('Loss')\n",
    "plt.legend()\n",
    "\n",
    "plt.show()\n",
    "\n",
    "plt.clf()   # clear figure\n",
    "\n",
    "acc8 = history8.history['acc']\n",
    "val_acc8 = history8.history['val_acc']\n",
    "\n",
    "plt.plot(epochs8, acc8, 'bo', label='Training accuracy')\n",
    "plt.plot(epochs8, val_acc8, 'b', label='Validation accuracy')\n",
    "plt.title('Training and validation accuracy')\n",
    "plt.xlabel('Epochs')\n",
    "plt.ylabel('Loss')\n",
    "plt.legend()\n",
    "\n",
    "plt.show()"
   ]
  },
  {
   "cell_type": "markdown",
   "metadata": {},
   "source": [
    "Test 5: Results\n",
    "    \n",
    "This test shows a more thorough run on the test 3 technique and because of this we were able to see a slight improvement in the results.\n",
    "We hit a new top accuracy of 0.7043 which shows that this technique is much more thorough than previous but at a cost of time.\n",
    "I would be interested at running this at an epoch of 20 to see how the result deviates and to see if more gain is acquired"
   ]
  },
  {
   "cell_type": "markdown",
   "metadata": {},
   "source": [
    "Conclusion:\n",
    "\n",
    "I was able to test a number of different techniques in improving the system. Some of the tests were more of an experiment to see how the system would change (Dropout attempt, Stacked LSTM).\n",
    "If I was able to better understand the Dropout layer I would have liked to see how far I could have taken it as the attempt I made was quite basic.\n",
    "The Stacked LSTM technique also quite a high result so that is another method which could be improved moreso by trying different epoch numbers and also by exploring different layer attributes.\n",
    "The technique I went with and continued to explore was that which was used in Tests 3 and 5. This technique stood out to me as it made the most sense to me and also helped me clearly see the effect of increasing the depth of a train. Because of this I was able to reach an accuracy of 0.7043 which I believe to be fairly good. I'm sure there is room for improvement in that which I will try and research."
   ]
  }
 ],
 "metadata": {
  "kernelspec": {
   "display_name": "Python 3",
   "language": "python",
   "name": "python3"
  },
  "language_info": {
   "codemirror_mode": {
    "name": "ipython",
    "version": 3
   },
   "file_extension": ".py",
   "mimetype": "text/x-python",
   "name": "python",
   "nbconvert_exporter": "python",
   "pygments_lexer": "ipython3",
   "version": "3.6.9"
  }
 },
 "nbformat": 4,
 "nbformat_minor": 2
}
